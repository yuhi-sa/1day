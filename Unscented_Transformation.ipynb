{
  "nbformat": 4,
  "nbformat_minor": 0,
  "metadata": {
    "colab": {
      "name": "Unscented Transformation.ipynb",
      "provenance": [],
      "collapsed_sections": [],
      "authorship_tag": "ABX9TyNiQcuuX/152dtHAt2UdKKj",
      "include_colab_link": true
    },
    "kernelspec": {
      "display_name": "Python 3",
      "name": "python3"
    }
  },
  "cells": [
    {
      "cell_type": "markdown",
      "metadata": {
        "id": "view-in-github",
        "colab_type": "text"
      },
      "source": [
        "<a href=\"https://colab.research.google.com/github/yuhi-sa/1day/blob/main/Unscented_Transformation.ipynb\" target=\"_parent\"><img src=\"https://colab.research.google.com/assets/colab-badge.svg\" alt=\"Open In Colab\"/></a>"
      ]
    },
    {
      "cell_type": "markdown",
      "metadata": {
        "id": "cdjWUiGTRaLW"
      },
      "source": [
        "# Unscented Transformation\n"
      ]
    },
    {
      "cell_type": "markdown",
      "metadata": {
        "id": "eS5wjT5Pv9Ad"
      },
      "source": [
        "# はじめに\n",
        "Unscented Transformation(アンセンテッド変換,U変換)は，Unscented Kalman Filterの中で出てくるけど，U変換単体での説明がなくて困ってるので今の理解をまとめました．\n",
        "間違ってる所など教えていただけるととてもありがたいです．\n",
        "\n",
        "# Unscented Transformationの概要\n",
        "U変換は，標準正規分布に従う確率変数$x$の平均$\\bar{x}$と分散共分散行列$P_x$が既知であるとき，$x$の非線形変換$y=f(x)$で変換される確率変数$y$の$\\bar{y}$と$P_y$を推定する方法である．\n",
        "\n",
        "まず，この場合，モンテカロ的に\n",
        "$\\bar{y}\\simeq\\frac{1}{N}\\sum_{i=1}^Nf(x_i)$  \n",
        "$P_y \\simeq \\frac{1}{N}\\sum_{i=1}^N(f(x_i)-\\bar{y})(f(x_i)-\\bar{y})^T$  \n",
        "のように計算することが思いつくが，精度をよく計算するにはNを大きくする必要があり，実用上問題がある．\n",
        "\n",
        "線形近似をすることなく，モンテカロ法のよいところを利用できるように，できるだけ少ないサンプル点を用いて，変換後の確率変数の統計的性質を推定する方法がU変換である．\n",
        "\n",
        "まず，確率変数$x$からサンプルする値(シグマ点)を決め，シグマ点を非線形変換し，変換した値から$y$の$\\bar{y}$と$P_y$を求める．\n",
        "\n",
        "参考1：[UKF （Unscented Kalman Filter）っ て何 ？](https://www.jstage.jst.go.jp/article/isciesci/50/7/50_KJ00004329717/_pdf)"
      ]
    },
    {
      "cell_type": "code",
      "metadata": {
        "id": "6Ak-s2eUrbr5"
      },
      "source": [
        "import matplotlib.pyplot as plt\n",
        "import numpy as np\n",
        "import random\n",
        "import math\n",
        "import scipy.linalg"
      ],
      "execution_count": 9,
      "outputs": []
    },
    {
      "cell_type": "markdown",
      "metadata": {
        "id": "SMkcugqAT3tG"
      },
      "source": [
        "入力には$X=(X_1,X_2)$を用いる．  \n",
        "\n",
        "平均ベクトルは，$\\mu=(E[X_1],E[X_2])=(\\bar{x}_1,\\bar{x}_2)$  \n",
        "分散共分散ベクトルは，$P_x = [\n",
        "    \\begin{array}{cc}\n",
        "      var[X_1] & cov[X_1,X_2] \\\\\n",
        "      cov[X_2,X_1] & var[X_2]\n",
        "    \\end{array}\n",
        "    ]\n",
        "    = [\n",
        "    \\begin{array}{cc}\n",
        "      \\sigma_1^2 & \\sigma_1\\sigma_2 \\\\\n",
        "      \\sigma_1\\sigma_2 & \\sigma_2^2\n",
        "    \\end{array}\n",
        "    ]\n",
        "$  \n",
        "で表すことができる．  \n",
        "よって，  $X_1,X_2$にそれぞれ平均0分散1，平均1分散2の標準正規分布を用いると考えると，  \n",
        "$\\bar{x}=[0, 1]$  \n",
        "$P_x = [\n",
        "    \\begin{array}{cc}\n",
        "      1 & 2 \\\\\n",
        "      2 & 4\n",
        "    \\end{array}\n",
        "    ]\n",
        "$\n",
        "となる．\n",
        "\n",
        "これを入力として用いる．出力は1次元とし$f(x)=x[0]*x[1]$の非線形変換を考える．"
      ]
    },
    {
      "cell_type": "code",
      "metadata": {
        "colab": {
          "base_uri": "https://localhost:8080/"
        },
        "id": "lDr0UnW4Rmce",
        "outputId": "5e186355-a82f-4b51-b547-a9b4946d8c3d"
      },
      "source": [
        "# xの次元数\n",
        "n = 2\n",
        "# yの次元数\n",
        "m = 1\n",
        "\n",
        "# xの平均と分散\n",
        "x_mean = np.array([0, 1])\n",
        "x_P = np.array([[1,2],[2,4]])\n",
        "print(\"xの平均\",x_mean)\n",
        "print(\"xの分散共分散行列\",x_P)\n",
        "\n",
        "# xの非線形変換\n",
        "def f(x):\n",
        "  return [x[0]*x[1]]"
      ],
      "execution_count": 10,
      "outputs": [
        {
          "output_type": "stream",
          "text": [
            "xの平均 [0 1]\n",
            "xの分散共分散行列 [[1 2]\n",
            " [2 4]]\n"
          ],
          "name": "stdout"
        }
      ]
    },
    {
      "cell_type": "markdown",
      "metadata": {
        "id": "75uFuwyvWpHh"
      },
      "source": [
        "# シグマ点を計算する\n",
        "$\\sigma_0 = \\bar{x} \\tag{1}$  \n",
        "$\\sigma_i = \\bar{x}+(\\sqrt{(n+\\lambda)}P_x) \\tag{2}$  \n",
        "$\\sigma_i = \\bar{x}-(\\sqrt{(n+\\lambda)}P_x) \\tag{3}$ \n",
        "\n",
        "ここで，$\\lambda$は以下のように計算される．  \n",
        "$\\lambda = \\alpha^2*(n+\\kappa)-n \\tag{4}$\n",
        "\n",
        "ここで，$\\alpha$と$\\kappa$はハイパーパラメータである．  \n",
        "  \n",
        "$\\alpha$:平均の状態値の周りのシグマ ポイントの広がりを決定します。0-1のスカラー値として指定します．これは通常、小さい正の数値です．シグマポイントの広がりは$\\alpha$に比例します．値が小さいほど、シグマポイントは平均の状態に近くなります．  \n",
        "\n",
        "$\\kappa$：通常は0に設定されます．値が小さいほど，シグマポイントは平均の状態に近くなります．広がりは$\\kappa$の平方根に比例します。  \n",
        "\n",
        "参考1：[Unscented Kalman Filter， MathWorks](https://jp.mathworks.com/help/control/ref/ukf_block.html)  \n",
        "参考2：[Unscentedカルマンフィルタを使用した自己位置推定MATLAB, Pythonサンプルプログラム](https://myenigma.hatenablog.com/entry/20140614/1402731732)\n"
      ]
    },
    {
      "cell_type": "code",
      "metadata": {
        "colab": {
          "base_uri": "https://localhost:8080/"
        },
        "id": "4FqXXNEfttkj",
        "outputId": "38d8ec99-2fd9-4a43-f0f4-29243cab3e8a"
      },
      "source": [
        "# パラメータ\n",
        "alpha = 0.5\n",
        "kappa = 0\n",
        "# 式4\n",
        "lambd=alpha**2*(n+kappa)-n\n",
        "print(\"ラムダ\", lambd)\n",
        "# シグマ点をサンプリング\n",
        "sigma = np.zeros((n, 2*n+1))\n",
        "\n",
        "# 式1\n",
        "sigma[:,0] = x_mean\n",
        "gamma=math.sqrt(n+lambd)\n",
        "# 式2\n",
        "for i in range(n):\n",
        "    sigma[:,i+1] = x_mean + gamma * x_P[:,i]\n",
        "# 式3\n",
        "for i in range(n):\n",
        "    sigma[:,i+n+1] =x_mean - gamma * x_P[:,i]\n",
        "\n",
        "print(\"選択されたシグマ点\")\n",
        "for i in range(2*n+1):\n",
        "  print(sigma[:,i])"
      ],
      "execution_count": 11,
      "outputs": [
        {
          "output_type": "stream",
          "text": [
            "ラムダ -1.5\n",
            "選択されたシグマ点\n",
            "[0. 1.]\n",
            "[0.70710678 2.41421356]\n",
            "[1.41421356 3.82842712]\n",
            "[-0.70710678 -0.41421356]\n",
            "[-1.41421356 -1.82842712]\n"
          ],
          "name": "stdout"
        }
      ]
    },
    {
      "cell_type": "markdown",
      "metadata": {
        "id": "kMy6tWayd2sm"
      },
      "source": [
        "# 変換\n",
        "非線形変換により$y_{\\sigma}$をもとめる．  \n",
        "$y_{\\sigma}=f(\\sigma) \\tag{5}$  \n",
        "\n",
        "重み関数$w_i$を求める．  \n",
        "$w_0=\\frac{\\lambda}{n+\\lambda} \\tag{6}$  \n",
        "$w_i=\\frac{1}{2(n+\\lambda)} \\tag{7}$\n",
        "\n",
        "$y$の平均と分散は以下のように計算できる．  \n",
        "$\\bar{y} \\simeq \\sum_{i=0}^{2n}w_iy_{\\sigma i} \\tag{8}$  \n",
        "$P_y \\simeq \\sum_{i=0}^{2n} w_i (y_{\\sigma i}-\\bar{y})*(y_{\\sigma i}-\\bar{y})^T \\tag{9}$\n",
        "\n",
        "\n"
      ]
    },
    {
      "cell_type": "code",
      "metadata": {
        "colab": {
          "base_uri": "https://localhost:8080/"
        },
        "id": "4TeQyIW6M2eC",
        "outputId": "6bdb35bf-4910-4c1b-bd67-241da8d114dd"
      },
      "source": [
        "sigma_y = np.zeros((m, 2*n+1))\n",
        "# 非線形変換　式5\n",
        "for i in range(len(sigma)):\n",
        "  sigma_y[:,i] = f(sigma[:,i])\n",
        "\n",
        "w = np.zeros((1, 2*n+1))\n",
        "# 重み関数計算　式6,7\n",
        "w[:,0] = lambd/(n+lambd)\n",
        "for i in range(2*n):\n",
        "  w[:,i+1] = 1/(2*(n+lambd))\n",
        "print(\"重み関数\", w)\n",
        "y_mean=0\n",
        "# yの平均計算 式8\n",
        "for i in range(2*n+1):\n",
        "  y_mean += w[:,i]*sigma_y[:,i]\n",
        "\n",
        "y_P = 0\n",
        "# yの分散共分散計算 式9\n",
        "for i in range(2*n+1):\n",
        "  y_P += w[:,i]*(sigma_y[:,i]-y_mean)*(sigma_y[:,i]-y_mean).T\n",
        "\n",
        "\n",
        "print(\"yの平均\",y_mean)\n",
        "print(\"yの分散共分散行列\",y_P)"
      ],
      "execution_count": 12,
      "outputs": [
        {
          "output_type": "stream",
          "text": [
            "重み関数 [[-3.  1.  1.  1.  1.]]\n",
            "yの平均 [1.70710678]\n",
            "yの分散共分散行列 [8.8817842e-16]\n"
          ],
          "name": "stdout"
        }
      ]
    },
    {
      "cell_type": "markdown",
      "metadata": {
        "id": "0JvW1lMmgfJZ"
      },
      "source": [
        "# サンプリングで計算した結果と比較"
      ]
    },
    {
      "cell_type": "code",
      "metadata": {
        "id": "XshJ4LejnJQJ"
      },
      "source": [
        "def samplingY(samp):\n",
        "  y = np.zeros((m,samp))\n",
        "  for i in range(samp):\n",
        "    x = [random.random()*2-1, random.random()*4-2]\n",
        "    y[:,i]=f(val)\n",
        "  print(\"平均の差\",abs(np.mean(y)))\n",
        "  print(\"yの分散共分散行列\",abs(np.var(y)))\n",
        "  print(\"-----------------\")\n",
        "\n",
        "# サンプル数を少しずつ増やす\n",
        "# samplingY(10)\n",
        "# samplingY(100)\n",
        "# samplingY(1000)\n",
        "# samplingY(10000)\n",
        "# samplingY(1000000)"
      ],
      "execution_count": 13,
      "outputs": []
    }
  ]
}